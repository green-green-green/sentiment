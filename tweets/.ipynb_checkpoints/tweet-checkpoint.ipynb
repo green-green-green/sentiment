{
 "cells": [
  {
   "cell_type": "code",
   "execution_count": 1,
   "metadata": {},
   "outputs": [],
   "source": [
    "import pandas as pd"
   ]
  },
  {
   "cell_type": "code",
   "execution_count": 23,
   "metadata": {},
   "outputs": [
    {
     "name": "stdout",
     "output_type": "stream",
     "text": [
      "(6836, 10)\n",
      "(7237, 10)\n"
     ]
    },
    {
     "data": {
      "text/plain": [
       "0      この度3年ぶりにスタイルブック「ニコルノホン」が11月22日に発売しますファッションやメイク...\n",
       "1      本日はViViNight\\n\\nなんと19時以降〜裏びびないとの様子をLIVE配信します！行...\n",
       "2      今夜リアタイでー。#ミレガ\\n18日(木) 25:25～26:25\\n\\n最上もが、藤田ニコ...\n",
       "3            21歳ですがツインテールしました。pic.twitter.com/MRbyXdkq3m\n",
       "4                                                明日だあ^_^\n",
       "5                       #にこるんに質問\\n\\nいままとめてるからまだ質問ある方はいま！\n",
       "6                        あれYouTubeでの質問受け付けてたハッシュタグなんだっけ！\n",
       "7      お仕事終わり^_^\\n\\n朝から撮影そして収録2本がんばりまぴたpic.twitter.co...\n",
       "8      たのしみ♡♡色々考え中^_^https://twitter.com/nicoronoffic...\n",
       "9           vivi nightまでもうあと2日？楽しみだな。。みんな団扇とかの準備おっけい？^_^\n",
       "10     ZOZOTOWN\\n\\n＼¥1,000 OFF special coupon／\\nラメプリー...\n",
       "11     ぶれてる笑\\n\\nそして中途半端に笑ってる^_^笑\\n\\n明日も頑張ろうねpic.twitt...\n",
       "12     ファッションショーの時は携帯を置いて推しを全力で応援する方が楽しいよ！私は基本写真撮影ダメな...\n",
       "13                   テーマパークとかに関してはたまにガチのカメラで盗撮だし本当にしんどい。\n",
       "14     お仕事おわったよー！すぐ寝れそうYouTubeとりたいなぁちょっとみんなまっててね。タイミン...\n",
       "15     やっぱり盗撮にはなれない。スーパースター気分で堂々としてればいいのだけど、ずっとカメラ向けら...\n",
       "16     【チェリー刺繍Tシャツ】\\n▷MB92L1C0100\\n￥3,500+tax\\n\\n160c...\n",
       "17     ZOZOTOWN\\n\\n先週の売れ筋ランキングTOP30！\\n\\n売上ダントツNo.1は「バ...\n",
       "18     New Arrival\\n.\\nチェリー刺繍Tシャツ\\n¥3,500+tax\\n．\\n人気の...\n",
       "19     OFFICIAL ONLINE STORE\\n\\n＼new arrival／\\nベーシックロ...\n",
       "20       ロケから戻って\\nヒルナンデスいってきますpic.twitter.com/3AebY0suL2\n",
       "21     すごい^_^にこうさhttps://twitter.com/naatan0202/statu...\n",
       "22     朝が早いと寝なきゃもう時間ない起きなきゃってプレッシャーで全然眠りにつけないで汗だくほぼ目を...\n",
       "23                  おはよう！今日はヒルナン前にロケでヒルナンもやって夜までだぁがんばろう！\n",
       "24     もっとブランドが愛されてほしいなって思うしみんなが愛してくれればくれるほどブランドも成長して...\n",
       "25                                    有吉ぃぃeeeeeはじまったよぉー！\n",
       "26     みんなにもっとお洋服ゲットしてもらえるように頑張らなきゃ。みんなは今なにがすきな気分なんだろうなぁ\n",
       "27                                   NiCORON秋物の打ち合わせおわり！\n",
       "28            あめあめー！#TikTokhttp://vt.tiktok.com/JMhrAV/ \n",
       "29     ZOZOTOWN\\n\\nこの春のオシャレは背中で語る\\nバックプリント＆背中ディテールアイテ...\n",
       "                             ...                        \n",
       "783    #りゅうちぇる 記者が #平原颯馬 選手に\\nちょっぴり危ないサーフィンの裏話を聞いちゃいま...\n",
       "784    今回の動画は\\n#りゅうちぇる 記者と #脇田紗良 選手の\\nバランスボールチャレンジ\\nサ...\n",
       "785    なんと今日から４夜連続で メイク動画をあげるよん記念すべき1日目のメイク動画は \"YELLO...\n",
       "786                                     えこれカミナリ！？？リンク起きた\n",
       "787    今夜10時放送の #今日好き \\nなんと急遽...ぼくがMCしてます(笑)み〜〜てねhttp...\n",
       "788                                            嬉しいことがあった\n",
       "789                暑すぎ水分補給しようねpic.twitter.com/cRYqXqskVb\n",
       "790                           pic.twitter.com/YPo1lL7aNr\n",
       "791                           pic.twitter.com/8hMOvtvQxc\n",
       "792    僕の大好きな愛の島CHELCHEL LANDはお盆、今日はナカビーです!! 僕はお仕事で帰れ...\n",
       "793    “Link”毎日聴いてるよ!!\\n @RYUZi33WORLD929 \\n #RYUCHEL...\n",
       "794    ツイッターもインスタもフォロワーさんが増えてて朝から驚いた...\\nみんなありがとう\\n\\n...\n",
       "795        毛が濃くて嬉しいところはまつ毛だけだねpic.twitter.com/72K3FK6Gba\n",
       "796    かわいいMVの裏側  (必殺! 鼻毛隠し) \\n\\n \"Link\" MV \\nhttps:/...\n",
       "797    水曜日のダウンタウン見てくれた方ありがとう〜〜!!! https://twitter.com...\n",
       "798    RYUCHELL「Link」インタビュー｜ありのままの僕が見つけた愛と 息子に伝えたいメッセ...\n",
       "799                今日の眉毛 100点 pic.twitter.com/vgUb66SXem\n",
       "800                       選べないpic.twitter.com/8aEwnR15L5\n",
       "801    MV 解禁になりました〜〜 たくさんの方に見ていただけますようにキラッキラッキラッ\\nhtt...\n",
       "802    ヤバ〜〜い\"Link\"の作詞作曲をしてくださったヒャダインさんも来てくれて、ぺこりんからのお...\n",
       "803    【本日12時半】『#RYUCHELL 2ndシングル”Link” リリース記念生放送』\\n\\...\n",
       "804    今日は原宿で、待ってるね竹下入口横のアベマスタジオだよるんるん\\n来れない方はこちらから配信...\n",
       "805    MV アップされたんだけど間違って違うのになっているから正しいのがアップされたらまた言うね....\n",
       "806    りゅうちぇるがパパしてるところ\\nこんなにちゃんと見るのはじめて\\n急上昇ワードにあがれ〜〜...\n",
       "807    りゅうちぇる好きすぎてストーリースクショの渋滞祭りなんだが？特にお気に入りこれpic.twi...\n",
       "808    今日イベントでCHELCHELSを発見ほんとうに嬉しいだいすき残りの出番は、14時〜と15時...\n",
       "809    明日はみなとみらいでイベントに出演させていただきます 詳しくはさきほどRTしたツイートを見て...\n",
       "810    今年も四島啓発イベントが始まるわ！今年は四島シェアスポットという名前で皆さんの街にお邪魔しま...\n",
       "811    今日はふたりで1カ月検診に行ってきたよはじめての外出なのにリンク、すごいおりこうさんで感動。...\n",
       "812                                      明後日だよ〜〜ん原宿来てね〜〜\n",
       "Name: text, Length: 7237, dtype: object"
      ]
     },
     "execution_count": 23,
     "metadata": {},
     "output_type": "execute_result"
    }
   ],
   "source": [
    "negative0 = pd.read_csv(\"negative/0.csv\", sep=\",\")\n",
    "positive0 = pd.read_csv(\"positive/0.csv\", sep=\",\")\n",
    "\n",
    "for i in range(1,10):\n",
    "    negative = pd.read_csv(\"negative/{}.csv\".format(i))\n",
    "    positive = pd.read_csv(\"positive/{}.csv\".format(i))\n",
    "    negative0 = pd.concat([negative0, negative])\n",
    "    positive0 = pd.concat([positive0, positive])\n",
    "print(negative0.shape)\n",
    "print(positive0.shape)\n",
    "negative0.\n",
    "positive0[\"text\"]"
   ]
  },
  {
   "cell_type": "code",
   "execution_count": null,
   "metadata": {},
   "outputs": [],
   "source": []
  }
 ],
 "metadata": {
  "kernelspec": {
   "display_name": "Python 3",
   "language": "python",
   "name": "python3"
  },
  "language_info": {
   "codemirror_mode": {
    "name": "ipython",
    "version": 3
   },
   "file_extension": ".py",
   "mimetype": "text/x-python",
   "name": "python",
   "nbconvert_exporter": "python",
   "pygments_lexer": "ipython3",
   "version": "3.7.3"
  }
 },
 "nbformat": 4,
 "nbformat_minor": 2
}
